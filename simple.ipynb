{
 "cells": [
  {
   "cell_type": "code",
   "execution_count": 1,
   "metadata": {},
   "outputs": [],
   "source": [
    "using DelimitedFiles\n",
    "using Flux\n",
    "using Flux: onehotbatch, crossentropy, onecold\n",
    "using Statistics: mean"
   ]
  },
  {
   "cell_type": "code",
   "execution_count": 2,
   "metadata": {},
   "outputs": [
    {
     "data": {
      "text/plain": [
       "load_dataset (generic function with 2 methods)"
      ]
     },
     "execution_count": 2,
     "metadata": {},
     "output_type": "execute_result"
    }
   ],
   "source": [
    "0))# https://www.kaggle.com/nltkdata/qc-corpus\n",
    "function load_dataset(mode=\"train\")\n",
    "    dataset = readdlm(\"$mode.txt\", ':', String, '\\n')\n",
    "    labels = dataset[:,1]\n",
    "    questions = [split(lowercase(ques))[2:end] for ques in dataset[:, 2]]\n",
    "    \n",
    "    return (questions, labels)\n",
    "end"
   ]
  },
  {
   "cell_type": "code",
   "execution_count": 19,
   "metadata": {
    "scrolled": true
   },
   "outputs": [
    {
     "data": {
      "text/plain": [
       "201-element Array{String,1}:\n",
       " \"?\"         \n",
       " \"the\"       \n",
       " \"what\"      \n",
       " \"is\"        \n",
       " \"of\"        \n",
       " \"in\"        \n",
       " \"a\"         \n",
       " \"how\"       \n",
       " \"'s\"        \n",
       " \"was\"       \n",
       " \"who\"       \n",
       " \"to\"        \n",
       " \",\"         \n",
       " ⋮           \n",
       " \"die\"       \n",
       " \"animal\"    \n",
       " \"sea\"       \n",
       " \"school\"    \n",
       " \"york\"      \n",
       " \"over\"      \n",
       " \"history\"   \n",
       " \"part\"      \n",
       " \"great\"     \n",
       " \"money\"     \n",
       " \"university\"\n",
       " \"<OTHER>\"   "
      ]
     },
     "execution_count": 19,
     "metadata": {},
     "output_type": "execute_result"
    }
   ],
   "source": [
    "Train_questions, Train_labels = load_dataset()\n",
    "frequencyDict = Dict{String, Number}()\n",
    "words = String[]\n",
    "\n",
    "for ques in Train_questions\n",
    "    for token in ques\n",
    "        if token ∉ words\n",
    "            push!(words,token)\n",
    "        end\n",
    "        if token ∉ keys(frequencyDict)\n",
    "            frequencyDict[token] = 0\n",
    "        end\n",
    "            frequencyDict[token] += 1\n",
    "    end\n",
    "end\n",
    "\n",
    "function countWords(str)\n",
    "    frequencyDict[str]\n",
    "end\n",
    "\n",
    "words = sort(words, by=countWords, rev=true)[1:200]\n",
    "# StopWords?\n",
    "push!(words, \"<OTHER>\") # To make computation easier"
   ]
  },
  {
   "cell_type": "code",
   "execution_count": 29,
   "metadata": {
    "scrolled": true
   },
   "outputs": [
    {
     "data": {
      "text/plain": [
       "6×5452 Flux.OneHotMatrix{Array{Flux.OneHotVector,1}}:\n",
       "  true  false   true  false  false  …  false  false  false  false  false\n",
       " false   true  false   true  false      true   true  false  false   true\n",
       " false  false  false  false   true     false  false  false  false  false\n",
       " false  false  false  false  false     false  false  false  false  false\n",
       " false  false  false  false  false     false  false   true   true  false\n",
       " false  false  false  false  false  …  false  false  false  false  false"
      ]
     },
     "execution_count": 29,
     "metadata": {},
     "output_type": "execute_result"
    }
   ],
   "source": [
    "function inputFeatures(tokens)\n",
    "    features = zeros(length(words))\n",
    "    for token in tokens\n",
    "        index = findfirst(isequal(token),words)\n",
    "        if index == nothing\n",
    "            index = length(words)\n",
    "        end\n",
    "        features[index] = 1\n",
    "    end\n",
    "    return features\n",
    "end\n",
    "Xs = hcat([inputFeatures(ques) for ques in Train_questions]...)\n",
    "Ys = (onehotbatch(Train_labels, unique(Train_labels)))"
   ]
  },
  {
   "cell_type": "code",
   "execution_count": 46,
   "metadata": {
    "scrolled": true
   },
   "outputs": [
    {
     "data": {
      "text/plain": [
       "Chain(Dense(201, 32, NNlib.relu), Dense(32, 6), NNlib.softmax)"
      ]
     },
     "execution_count": 46,
     "metadata": {},
     "output_type": "execute_result"
    }
   ],
   "source": [
    "m = Chain(\n",
    "    Dense(length(words), 32, relu),\n",
    "    Dense(32, length(unique(Train_labels))),\n",
    "    softmax)"
   ]
  },
  {
   "cell_type": "code",
   "execution_count": 47,
   "metadata": {
    "scrolled": true
   },
   "outputs": [
    {
     "data": {
      "text/plain": [
       "#27 (generic function with 1 method)"
      ]
     },
     "execution_count": 47,
     "metadata": {},
     "output_type": "execute_result"
    }
   ],
   "source": [
    "loss(x, y) = crossentropy(m(x), y)\n",
    "accuracy(x,y) = mean(onecold(m(x)) .== onecold(y))\n",
    "dataset = Iterators.repeated((Xs, Ys), 500)\n",
    "opt = ADAM(0.01)\n",
    "\n",
    "evalcb = () -> @show(accuracy(Xs, Ys))"
   ]
  },
  {
   "cell_type": "code",
   "execution_count": 48,
   "metadata": {
    "scrolled": true
   },
   "outputs": [
    {
     "name": "stdout",
     "output_type": "stream",
     "text": [
      "accuracy(Xs, Ys) = 0.2619222303741746\n",
      "accuracy(Xs, Ys) = 0.8138297872340425\n",
      "accuracy(Xs, Ys) = 0.8679383712399119\n",
      "accuracy(Xs, Ys) = 0.8985693323550991\n",
      "accuracy(Xs, Ys) = 0.9169112252384446\n",
      "accuracy(Xs, Ys) = 0.925531914893617\n",
      "accuracy(Xs, Ys) = 0.9306676449009538\n"
     ]
    }
   ],
   "source": [
    "Flux.train!(loss, params(m), dataset, opt, cb = Flux.throttle(evalcb, 1))"
   ]
  },
  {
   "cell_type": "code",
   "execution_count": null,
   "metadata": {},
   "outputs": [],
   "source": []
  }
 ],
 "metadata": {
  "kernelspec": {
   "display_name": "Julia 1.0.3",
   "language": "julia",
   "name": "julia-1.0"
  },
  "language_info": {
   "file_extension": ".jl",
   "mimetype": "application/julia",
   "name": "julia",
   "version": "1.0.3"
  }
 },
 "nbformat": 4,
 "nbformat_minor": 2
}
